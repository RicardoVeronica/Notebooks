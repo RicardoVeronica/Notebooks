{
 "cells": [
  {
   "cell_type": "markdown",
   "id": "3a0b137a",
   "metadata": {},
   "source": [
    "# Big-O notation\n",
    "## Como podemos analizar algoritmos y compararlos unos con  otros?\n",
    "### Por qué analizar algoritmos?\n",
    "\n",
    "- Un algoritmo es un procedimieto o una formula para resolver un problema\n",
    "- Algunos problemas son tan usuales que los algoritmos para resolverlos tienen sus propios nombres"
   ]
  },
  {
   "cell_type": "code",
   "execution_count": 13,
   "id": "929468eb",
   "metadata": {},
   "outputs": [],
   "source": [
    "# Example\n",
    "def sum1(n):\n",
    "    \"\"\" Return the addition of a number and its previous numbers  \"\"\"\n",
    "    final_sum = 0\n",
    "    \n",
    "    for num in range(n + 1):\n",
    "        final_sum += num\n",
    "        \n",
    "    return final_sum\n",
    "\n",
    "\n",
    "def sum2(n):\n",
    "    \"\"\" Return the addition of a number and its previous numbers  \"\"\"\n",
    "    return (n * (n + 1)) // 2"
   ]
  },
  {
   "cell_type": "code",
   "execution_count": 14,
   "id": "a4a05c9e",
   "metadata": {},
   "outputs": [
    {
     "name": "stdout",
     "output_type": "stream",
     "text": [
      "55\n",
      "55\n"
     ]
    }
   ],
   "source": [
    "print(sum1(10))\n",
    "print(sum2(10))"
   ]
  },
  {
   "cell_type": "markdown",
   "id": "6d244d1d",
   "metadata": {},
   "source": [
    "### Cumplen la misma función pero con diferentes algoritmos"
   ]
  },
  {
   "cell_type": "code",
   "execution_count": 16,
   "id": "bcda168f",
   "metadata": {},
   "outputs": [
    {
     "name": "stdout",
     "output_type": "stream",
     "text": [
      "4.86 µs ± 43.2 ns per loop (mean ± std. dev. of 7 runs, 100000 loops each)\n"
     ]
    }
   ],
   "source": [
    "# Timeit es una funcion de Python para observa cuanto tarda una funcion en dar el resultado\n",
    "%timeit sum1(100)"
   ]
  },
  {
   "cell_type": "code",
   "execution_count": 17,
   "id": "450d72ef",
   "metadata": {},
   "outputs": [
    {
     "name": "stdout",
     "output_type": "stream",
     "text": [
      "155 ns ± 0.263 ns per loop (mean ± std. dev. of 7 runs, 10000000 loops each)\n"
     ]
    }
   ],
   "source": [
    "%timeit sum2(100)"
   ]
  },
  {
   "cell_type": "markdown",
   "id": "d5a9abef",
   "metadata": {},
   "source": [
    "### 1 Microsegundo = 1000 Nanosegundos\n",
    "Por lo cual la función 2 esta mas optimizada"
   ]
  }
 ],
 "metadata": {
  "kernelspec": {
   "display_name": "Python 3 (ipykernel)",
   "language": "python",
   "name": "python3"
  },
  "language_info": {
   "codemirror_mode": {
    "name": "ipython",
    "version": 3
   },
   "file_extension": ".py",
   "mimetype": "text/x-python",
   "name": "python",
   "nbconvert_exporter": "python",
   "pygments_lexer": "ipython3",
   "version": "3.9.6"
  }
 },
 "nbformat": 4,
 "nbformat_minor": 5
}
