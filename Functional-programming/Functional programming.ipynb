{
 "cells": [
  {
   "cell_type": "markdown",
   "metadata": {},
   "source": [
    "# Functional programming\n"
   ]
  },
  {
   "cell_type": "markdown",
   "metadata": {},
   "source": [
    "### Mutable data structures\n",
    "* list\n",
    "* dict\n",
    "* set"
   ]
  },
  {
   "cell_type": "code",
   "execution_count": 7,
   "metadata": {},
   "outputs": [],
   "source": [
    "# list of dicts \n",
    "scientists = [\n",
    "    {'name': 'Ada Lovelance', 'field': 'math', 'born': 1815, 'nobel': False},\n",
    "    {'name': 'Emy Noether', 'field': 'math', 'born': 1882, 'nobel': False},\n",
    "    {'name': 'Marie Curie', 'field': 'physics', 'born': 1867, 'nobel': True},\n",
    "    {'name': 'Tu Youyou', 'field': 'chemistry', 'born': 1930, 'nobel': True},\n",
    "    {'name': 'Ada Yonath', 'field': 'chemistry', 'born': 1939, 'nobel': True},\n",
    "    {'name': 'Vera Rubin', 'field': 'astronomy', 'born': 1928, 'nobel': False},\n",
    "    {'name': 'Sally Ride', 'field': 'physics', 'born': 1951, 'nobel': False}\n",
    "]"
   ]
  },
  {
   "cell_type": "code",
   "execution_count": 9,
   "metadata": {},
   "outputs": [
    {
     "name": "stdout",
     "output_type": "stream",
     "text": [
      "[{'born': 1815, 'field': 'math', 'name': 'Ada Lovelance', 'nobel': False},\n",
      " {'born': 1882, 'field': 'math', 'name': 'Emy Noether', 'nobel': False},\n",
      " {'born': 1867, 'field': 'physics', 'name': 'Marie Curie', 'nobel': True},\n",
      " {'born': 1930, 'field': 'chemistry', 'name': 'Tu Youyou', 'nobel': True},\n",
      " {'born': 1939, 'field': 'chemistry', 'name': 'Ada Yonath', 'nobel': True},\n",
      " {'born': 1928, 'field': 'astronomy', 'name': 'Vera Rubin', 'nobel': False},\n",
      " {'born': 1951, 'field': 'physics', 'name': 'Sally Ride', 'nobel': False}]\n"
     ]
    }
   ],
   "source": [
    "from pprint import pprint\n",
    "\n",
    "pprint(scientists)"
   ]
  },
  {
   "cell_type": "markdown",
   "metadata": {},
   "source": [
    "### Mutables data structures can be updated"
   ]
  },
  {
   "cell_type": "code",
   "execution_count": 10,
   "metadata": {},
   "outputs": [],
   "source": [
    "scientists[-2]['name'] = 'Ver Rubin'"
   ]
  },
  {
   "cell_type": "code",
   "execution_count": 11,
   "metadata": {},
   "outputs": [
    {
     "data": {
      "text/plain": [
       "'Ver Rubin'"
      ]
     },
     "execution_count": 11,
     "metadata": {},
     "output_type": "execute_result"
    }
   ],
   "source": [
    "scientists[-2]['name']"
   ]
  },
  {
   "cell_type": "markdown",
   "metadata": {},
   "source": [
    "### Inmutable data structures\n",
    "* set\n",
    "* frozenset\n",
    "* namedtuple"
   ]
  },
  {
   "cell_type": "code",
   "execution_count": 12,
   "metadata": {},
   "outputs": [],
   "source": [
    "# namedtuple\n",
    "import collections\n",
    "\n",
    "Scientists = collections.namedtuple('Scientists', [\n",
    "    'name',\n",
    "    'field',\n",
    "    'born',\n",
    "    'nobel',\n",
    "])"
   ]
  },
  {
   "cell_type": "code",
   "execution_count": 13,
   "metadata": {},
   "outputs": [
    {
     "data": {
      "text/plain": [
       "<class '__main__.Scientists'>"
      ]
     },
     "execution_count": 13,
     "metadata": {},
     "output_type": "execute_result"
    }
   ],
   "source": [
    "Scientists"
   ]
  },
  {
   "cell_type": "markdown",
   "metadata": {},
   "source": [
    "### Instance an object in namedtuple"
   ]
  },
  {
   "cell_type": "code",
   "execution_count": 14,
   "metadata": {},
   "outputs": [
    {
     "data": {
      "text/plain": [
       "Scientists(name='Ada Lovelance', field='Math', born=1815, nobel=False)"
      ]
     },
     "execution_count": 14,
     "metadata": {},
     "output_type": "execute_result"
    }
   ],
   "source": [
    "Scientists(name='Ada Lovelance', field='Math', born=1815, nobel=False)"
   ]
  },
  {
   "cell_type": "code",
   "execution_count": 15,
   "metadata": {},
   "outputs": [],
   "source": [
    "ada = Scientists('Ada Lovelance', 'Math', 1815, False)"
   ]
  },
  {
   "cell_type": "code",
   "execution_count": 16,
   "metadata": {},
   "outputs": [
    {
     "data": {
      "text/plain": [
       "Scientists(name='Ada Lovelance', field='Math', born=1815, nobel=False)"
      ]
     },
     "execution_count": 16,
     "metadata": {},
     "output_type": "execute_result"
    }
   ],
   "source": [
    "ada"
   ]
  },
  {
   "cell_type": "markdown",
   "metadata": {},
   "source": [
    "### Show data in namedtuple"
   ]
  },
  {
   "cell_type": "code",
   "execution_count": 17,
   "metadata": {},
   "outputs": [
    {
     "data": {
      "text/plain": [
       "'Ada Lovelance'"
      ]
     },
     "execution_count": 17,
     "metadata": {},
     "output_type": "execute_result"
    }
   ],
   "source": [
    "ada.name"
   ]
  },
  {
   "cell_type": "code",
   "execution_count": 18,
   "metadata": {},
   "outputs": [
    {
     "data": {
      "text/plain": [
       "False"
      ]
     },
     "execution_count": 18,
     "metadata": {},
     "output_type": "execute_result"
    }
   ],
   "source": [
    "ada[-1]"
   ]
  },
  {
   "cell_type": "markdown",
   "metadata": {},
   "source": [
    "### We cannot update a namedtuple"
   ]
  },
  {
   "cell_type": "code",
   "execution_count": 19,
   "metadata": {},
   "outputs": [
    {
     "ename": "AttributeError",
     "evalue": "can't set attribute",
     "output_type": "error",
     "traceback": [
      "\u001b[0;31m---------------------------------------------------------------------------\u001b[0m",
      "\u001b[0;31mAttributeError\u001b[0m                            Traceback (most recent call last)",
      "\u001b[0;32m<ipython-input-19-f65e28649831>\u001b[0m in \u001b[0;36m<module>\u001b[0;34m\u001b[0m\n\u001b[0;32m----> 1\u001b[0;31m \u001b[0mada\u001b[0m\u001b[0;34m.\u001b[0m\u001b[0mfield\u001b[0m \u001b[0;34m=\u001b[0m \u001b[0;34m'Nothing'\u001b[0m\u001b[0;34m\u001b[0m\u001b[0;34m\u001b[0m\u001b[0m\n\u001b[0m",
      "\u001b[0;31mAttributeError\u001b[0m: can't set attribute"
     ]
    }
   ],
   "source": [
    "ada.field = 'Nothing'"
   ]
  },
  {
   "cell_type": "markdown",
   "metadata": {},
   "source": [
    "### Easy way to instance an object in namedtuple"
   ]
  },
  {
   "cell_type": "code",
   "execution_count": 20,
   "metadata": {},
   "outputs": [],
   "source": [
    "marie = Scientists('Marie Curie', 'Physics', 1867, True)"
   ]
  },
  {
   "cell_type": "code",
   "execution_count": 21,
   "metadata": {},
   "outputs": [
    {
     "data": {
      "text/plain": [
       "Scientists(name='Marie Curie', field='Physics', born=1867, nobel=True)"
      ]
     },
     "execution_count": 21,
     "metadata": {},
     "output_type": "execute_result"
    }
   ],
   "source": [
    "marie"
   ]
  },
  {
   "cell_type": "code",
   "execution_count": 22,
   "metadata": {},
   "outputs": [
    {
     "data": {
      "text/plain": [
       "'Marie Curie'"
      ]
     },
     "execution_count": 22,
     "metadata": {},
     "output_type": "execute_result"
    }
   ],
   "source": [
    "marie.name"
   ]
  },
  {
   "cell_type": "code",
   "execution_count": 23,
   "metadata": {},
   "outputs": [
    {
     "data": {
      "text/plain": [
       "1867"
      ]
     },
     "execution_count": 23,
     "metadata": {},
     "output_type": "execute_result"
    }
   ],
   "source": [
    "marie[2]"
   ]
  },
  {
   "cell_type": "markdown",
   "metadata": {},
   "source": [
    "# Filter function"
   ]
  },
  {
   "cell_type": "code",
   "execution_count": 83,
   "metadata": {},
   "outputs": [],
   "source": [
    "# first transform Scientists into a tuple\n",
    "scientist = (\n",
    "    Scientists('Marie Curie', 'Physics', 1867, True),\n",
    "    Scientists('Ada Lovelance', 'Math', 1815, False),\n",
    "    Scientists('Ada Yonath', 'Chemistry', 1938, True),\n",
    "    Scientists('Vera Rubin', 'Astronomy', 1928, False),\n",
    "    Scientists('Sally Ride', 'Physics', 1951, False),\n",
    "    Scientists('Tu Youyou', 'Chemistry', 1930, True),\n",
    "    Scientists('Emmy Noether', 'Math', 1882, False)\n",
    ")"
   ]
  },
  {
   "cell_type": "code",
   "execution_count": 84,
   "metadata": {},
   "outputs": [
    {
     "name": "stdout",
     "output_type": "stream",
     "text": [
      "(Scientists(name='Marie Curie', field='Physics', born=1867, nobel=True),\n",
      " Scientists(name='Ada Lovelance', field='Math', born=1815, nobel=False),\n",
      " Scientists(name='Ada Yonath', field='Chemistry', born=1938, nobel=True),\n",
      " Scientists(name='Vera Rubin', field='Astronomy', born=1928, nobel=False),\n",
      " Scientists(name='Sally Ride', field='Physics', born=1951, nobel=False),\n",
      " Scientists(name='Tu Youyou', field='Chemistry', born=1930, nobel=True),\n",
      " Scientists(name='Emmy Noether', field='Math', born=1882, nobel=False))\n"
     ]
    }
   ],
   "source": [
    "pprint(scientist)"
   ]
  },
  {
   "cell_type": "markdown",
   "metadata": {},
   "source": [
    "### Filter with lambda expression"
   ]
  },
  {
   "cell_type": "code",
   "execution_count": 85,
   "metadata": {},
   "outputs": [],
   "source": [
    "fs = filter(lambda x: x.nobel is True, scientist)"
   ]
  },
  {
   "cell_type": "markdown",
   "metadata": {},
   "source": [
    "### Iterate filter values"
   ]
  },
  {
   "cell_type": "code",
   "execution_count": 86,
   "metadata": {},
   "outputs": [
    {
     "data": {
      "text/plain": [
       "Scientists(name='Marie Curie', field='Physics', born=1867, nobel=True)"
      ]
     },
     "execution_count": 86,
     "metadata": {},
     "output_type": "execute_result"
    }
   ],
   "source": [
    "next(fs)"
   ]
  },
  {
   "cell_type": "code",
   "execution_count": 87,
   "metadata": {},
   "outputs": [
    {
     "data": {
      "text/plain": [
       "Scientists(name='Ada Yonath', field='Chemistry', born=1938, nobel=True)"
      ]
     },
     "execution_count": 87,
     "metadata": {},
     "output_type": "execute_result"
    }
   ],
   "source": [
    "next(fs)"
   ]
  },
  {
   "cell_type": "code",
   "execution_count": 88,
   "metadata": {},
   "outputs": [
    {
     "data": {
      "text/plain": [
       "Scientists(name='Tu Youyou', field='Chemistry', born=1930, nobel=True)"
      ]
     },
     "execution_count": 88,
     "metadata": {},
     "output_type": "execute_result"
    }
   ],
   "source": [
    "next(fs)"
   ]
  },
  {
   "cell_type": "code",
   "execution_count": 89,
   "metadata": {},
   "outputs": [
    {
     "ename": "StopIteration",
     "evalue": "",
     "output_type": "error",
     "traceback": [
      "\u001b[0;31m---------------------------------------------------------------------------\u001b[0m",
      "\u001b[0;31mStopIteration\u001b[0m                             Traceback (most recent call last)",
      "\u001b[0;32m<ipython-input-89-cc337a681289>\u001b[0m in \u001b[0;36m<module>\u001b[0;34m\u001b[0m\n\u001b[0;32m----> 1\u001b[0;31m \u001b[0mnext\u001b[0m\u001b[0;34m(\u001b[0m\u001b[0mfs\u001b[0m\u001b[0;34m)\u001b[0m\u001b[0;34m\u001b[0m\u001b[0;34m\u001b[0m\u001b[0m\n\u001b[0m",
      "\u001b[0;31mStopIteration\u001b[0m: "
     ]
    }
   ],
   "source": [
    "next(fs)"
   ]
  },
  {
   "cell_type": "markdown",
   "metadata": {},
   "source": [
    "### Show all values"
   ]
  },
  {
   "cell_type": "code",
   "execution_count": 90,
   "metadata": {},
   "outputs": [
    {
     "name": "stdout",
     "output_type": "stream",
     "text": [
      "(Scientists(name='Marie Curie', field='Physics', born=1867, nobel=True),\n",
      " Scientists(name='Ada Yonath', field='Chemistry', born=1938, nobel=True),\n",
      " Scientists(name='Tu Youyou', field='Chemistry', born=1930, nobel=True))\n"
     ]
    }
   ],
   "source": [
    "from pprint import pprint\n",
    "\n",
    "all_noble_scientists = tuple(filter(lambda x: x.nobel is True, scientist))\n",
    "\n",
    "pprint(all_noble_scientists)"
   ]
  },
  {
   "cell_type": "markdown",
   "metadata": {},
   "source": [
    "### Use function instead lambda expression"
   ]
  },
  {
   "cell_type": "code",
   "execution_count": 91,
   "metadata": {},
   "outputs": [
    {
     "name": "stdout",
     "output_type": "stream",
     "text": [
      "Scientists(name='Marie Curie', field='Physics', born=1867, nobel=True)\n",
      "Scientists(name='Ada Yonath', field='Chemistry', born=1938, nobel=True)\n",
      "Scientists(name='Tu Youyou', field='Chemistry', born=1930, nobel=True)\n"
     ]
    }
   ],
   "source": [
    "def all_nobel():\n",
    "    for x in scientist:\n",
    "        if x.nobel is True:\n",
    "            print(x)\n",
    "            \n",
    "\n",
    "all_nobel()"
   ]
  },
  {
   "cell_type": "code",
   "execution_count": 92,
   "metadata": {},
   "outputs": [
    {
     "name": "stdout",
     "output_type": "stream",
     "text": [
      "Scientists(name='Marie Curie', field='Physics', born=1867, nobel=True)\n",
      "Scientists(name='Ada Yonath', field='Chemistry', born=1938, nobel=True)\n",
      "Scientists(name='Tu Youyou', field='Chemistry', born=1930, nobel=True)\n"
     ]
    }
   ],
   "source": [
    "fs = filter(all_nobel(), scientist)"
   ]
  },
  {
   "cell_type": "markdown",
   "metadata": {},
   "source": [
    "### List comprenhension"
   ]
  },
  {
   "cell_type": "code",
   "execution_count": 93,
   "metadata": {},
   "outputs": [
    {
     "name": "stdout",
     "output_type": "stream",
     "text": [
      "[Scientists(name='Marie Curie', field='Physics', born=1867, nobel=True),\n",
      " Scientists(name='Ada Yonath', field='Chemistry', born=1938, nobel=True),\n",
      " Scientists(name='Tu Youyou', field='Chemistry', born=1930, nobel=True)]\n"
     ]
    }
   ],
   "source": [
    "pprint([x for x in scientist if x.nobel is True])"
   ]
  },
  {
   "cell_type": "code",
   "execution_count": 94,
   "metadata": {},
   "outputs": [
    {
     "name": "stdout",
     "output_type": "stream",
     "text": [
      "(Scientists(name='Marie Curie', field='Physics', born=1867, nobel=True),\n",
      " Scientists(name='Ada Yonath', field='Chemistry', born=1938, nobel=True),\n",
      " Scientists(name='Tu Youyou', field='Chemistry', born=1930, nobel=True))\n"
     ]
    }
   ],
   "source": [
    "# transform in tuple\n",
    "pprint(tuple([x for x in scientist if x.nobel is True]))"
   ]
  },
  {
   "cell_type": "markdown",
   "metadata": {},
   "source": [
    "# Map function"
   ]
  },
  {
   "cell_type": "code",
   "execution_count": 95,
   "metadata": {},
   "outputs": [
    {
     "name": "stdout",
     "output_type": "stream",
     "text": [
      "(Scientists(name='Marie Curie', field='Physics', born=1867, nobel=True),\n",
      " Scientists(name='Ada Lovelance', field='Math', born=1815, nobel=False),\n",
      " Scientists(name='Ada Yonath', field='Chemistry', born=1938, nobel=True),\n",
      " Scientists(name='Vera Rubin', field='Astronomy', born=1928, nobel=False),\n",
      " Scientists(name='Sally Ride', field='Physics', born=1951, nobel=False),\n",
      " Scientists(name='Tu Youyou', field='Chemistry', born=1930, nobel=True),\n",
      " Scientists(name='Emmy Noether', field='Math', born=1882, nobel=False))\n"
     ]
    }
   ],
   "source": [
    "pprint(scientist)"
   ]
  },
  {
   "cell_type": "markdown",
   "metadata": {},
   "source": [
    "### Map with lambda expression"
   ]
  },
  {
   "cell_type": "code",
   "execution_count": 148,
   "metadata": {},
   "outputs": [],
   "source": [
    "names_and_ages = tuple(map(\n",
    "    lambda x: {'Name': x.name.upper(), 'Age': (2020 - x.born)},\n",
    "    scientist\n",
    "))"
   ]
  },
  {
   "cell_type": "markdown",
   "metadata": {},
   "source": [
    "### Show values"
   ]
  },
  {
   "cell_type": "code",
   "execution_count": 149,
   "metadata": {},
   "outputs": [
    {
     "name": "stdout",
     "output_type": "stream",
     "text": [
      "({'Age': 153, 'Name': 'MARIE CURIE'},\n",
      " {'Age': 205, 'Name': 'ADA LOVELANCE'},\n",
      " {'Age': 82, 'Name': 'ADA YONATH'},\n",
      " {'Age': 92, 'Name': 'VERA RUBIN'},\n",
      " {'Age': 69, 'Name': 'SALLY RIDE'},\n",
      " {'Age': 90, 'Name': 'TU YOUYOU'},\n",
      " {'Age': 138, 'Name': 'EMMY NOETHER'})\n"
     ]
    }
   ],
   "source": [
    "pprint(names_and_ages)"
   ]
  },
  {
   "cell_type": "markdown",
   "metadata": {},
   "source": [
    "### List comprenhension"
   ]
  },
  {
   "cell_type": "code",
   "execution_count": 98,
   "metadata": {},
   "outputs": [
    {
     "name": "stdout",
     "output_type": "stream",
     "text": [
      "[{'Age': 153, 'Name': 'MARIE CURIE'},\n",
      " {'Age': 205, 'Name': 'ADA LOVELANCE'},\n",
      " {'Age': 82, 'Name': 'ADA YONATH'},\n",
      " {'Age': 92, 'Name': 'VERA RUBIN'},\n",
      " {'Age': 69, 'Name': 'SALLY RIDE'},\n",
      " {'Age': 90, 'Name': 'TU YOUYOU'},\n",
      " {'Age': 138, 'Name': 'EMMY NOETHER'}]\n"
     ]
    }
   ],
   "source": [
    "pprint([{'Name': x.name.upper(), 'Age': (2020 - x.born)} for x in scientist])"
   ]
  },
  {
   "cell_type": "code",
   "execution_count": 99,
   "metadata": {},
   "outputs": [
    {
     "name": "stdout",
     "output_type": "stream",
     "text": [
      "({'Age': 153, 'Name': 'MARIE CURIE'},\n",
      " {'Age': 205, 'Name': 'ADA LOVELANCE'},\n",
      " {'Age': 82, 'Name': 'ADA YONATH'},\n",
      " {'Age': 92, 'Name': 'VERA RUBIN'},\n",
      " {'Age': 69, 'Name': 'SALLY RIDE'},\n",
      " {'Age': 90, 'Name': 'TU YOUYOU'},\n",
      " {'Age': 138, 'Name': 'EMMY NOETHER'})\n"
     ]
    }
   ],
   "source": [
    "# transform in tuple\n",
    "pprint(tuple([{'Name': x.name.upper(), 'Age': (2020 - x.born)} for x in scientist]))"
   ]
  },
  {
   "cell_type": "markdown",
   "metadata": {},
   "source": [
    "# Reduse function"
   ]
  },
  {
   "cell_type": "code",
   "execution_count": 100,
   "metadata": {},
   "outputs": [
    {
     "data": {
      "text/plain": [
       "15"
      ]
     },
     "execution_count": 100,
     "metadata": {},
     "output_type": "execute_result"
    }
   ],
   "source": [
    "# reduce a sequence applying a function repeatedly\n",
    "from functools import reduce\n",
    "\n",
    "lst = [1, 2, 3, 4, 5]\n",
    "\n",
    "add = lambda x, y: x + y\n",
    "\n",
    "reduce(add, lst, 0)"
   ]
  },
  {
   "cell_type": "code",
   "execution_count": 144,
   "metadata": {},
   "outputs": [
    {
     "name": "stdout",
     "output_type": "stream",
     "text": [
      "(Scientists(name='Marie Curie', field='Physics', born=1867, nobel=True),\n",
      " Scientists(name='Ada Lovelance', field='Math', born=1815, nobel=False),\n",
      " Scientists(name='Ada Yonath', field='Chemistry', born=1938, nobel=True),\n",
      " Scientists(name='Vera Rubin', field='Astronomy', born=1928, nobel=False),\n",
      " Scientists(name='Sally Ride', field='Physics', born=1951, nobel=False),\n",
      " Scientists(name='Tu Youyou', field='Chemistry', born=1930, nobel=True),\n",
      " Scientists(name='Emmy Noether', field='Math', born=1882, nobel=False))\n"
     ]
    }
   ],
   "source": [
    "pprint(scientist)"
   ]
  },
  {
   "cell_type": "code",
   "execution_count": 151,
   "metadata": {},
   "outputs": [
    {
     "name": "stdout",
     "output_type": "stream",
     "text": [
      "({'Age': 153, 'Name': 'MARIE CURIE'},\n",
      " {'Age': 205, 'Name': 'ADA LOVELANCE'},\n",
      " {'Age': 82, 'Name': 'ADA YONATH'},\n",
      " {'Age': 92, 'Name': 'VERA RUBIN'},\n",
      " {'Age': 69, 'Name': 'SALLY RIDE'},\n",
      " {'Age': 90, 'Name': 'TU YOUYOU'},\n",
      " {'Age': 138, 'Name': 'EMMY NOETHER'})\n"
     ]
    }
   ],
   "source": [
    "pprint(names_and_ages)"
   ]
  },
  {
   "cell_type": "code",
   "execution_count": 152,
   "metadata": {},
   "outputs": [
    {
     "data": {
      "text/plain": [
       "829"
      ]
     },
     "execution_count": 152,
     "metadata": {},
     "output_type": "execute_result"
    }
   ],
   "source": [
    "total_age = reduce(\n",
    "    lambda accumulator, x: accumulator + x['Age'],\n",
    "    names_and_ages,\n",
    "    0\n",
    ")\n",
    "\n",
    "total_age"
   ]
  },
  {
   "cell_type": "code",
   "execution_count": 153,
   "metadata": {},
   "outputs": [
    {
     "data": {
      "text/plain": [
       "829"
      ]
     },
     "execution_count": 153,
     "metadata": {},
     "output_type": "execute_result"
    }
   ],
   "source": [
    "sum(x['Age'] for x in names_and_ages)"
   ]
  },
  {
   "cell_type": "code",
   "execution_count": 154,
   "metadata": {},
   "outputs": [
    {
     "name": "stdout",
     "output_type": "stream",
     "text": [
      "[{'born': 1815, 'field': 'math', 'name': 'Ada Lovelance', 'nobel': False},\n",
      " {'born': 1882, 'field': 'math', 'name': 'Emy Noether', 'nobel': False},\n",
      " {'born': 1867, 'field': 'physics', 'name': 'Marie Curie', 'nobel': True},\n",
      " {'born': 1930, 'field': 'chemistry', 'name': 'Tu Youyou', 'nobel': True},\n",
      " {'born': 1939, 'field': 'chemistry', 'name': 'Ada Yonath', 'nobel': True},\n",
      " {'born': 1928, 'field': 'astronomy', 'name': 'Ver Rubin', 'nobel': False},\n",
      " {'born': 1951, 'field': 'physics', 'name': 'Sally Ride', 'nobel': False}]\n"
     ]
    }
   ],
   "source": [
    "pprint(scientists)"
   ]
  },
  {
   "cell_type": "code",
   "execution_count": 166,
   "metadata": {},
   "outputs": [],
   "source": [
    "def reducer(accumulator, value):\n",
    "    accumulator[value['field']].append(value['name'])\n",
    "    \n",
    "    return accumulator\n",
    "\n",
    "\n",
    "scientists_by_field = reduce(\n",
    "    reducer,\n",
    "    scientists,\n",
    "    {'math': [], 'physics': [], 'chemistry': [], 'astronomy': []}\n",
    ")"
   ]
  },
  {
   "cell_type": "code",
   "execution_count": 167,
   "metadata": {},
   "outputs": [
    {
     "name": "stdout",
     "output_type": "stream",
     "text": [
      "{'astronomy': ['Ver Rubin'],\n",
      " 'chemistry': ['Tu Youyou', 'Ada Yonath'],\n",
      " 'math': ['Ada Lovelance', 'Emy Noether'],\n",
      " 'physics': ['Marie Curie', 'Sally Ride']}\n"
     ]
    }
   ],
   "source": [
    "pprint(scientists_by_field)"
   ]
  }
 ],
 "metadata": {
  "kernelspec": {
   "display_name": "Python 3",
   "language": "python",
   "name": "python3"
  },
  "language_info": {
   "codemirror_mode": {
    "name": "ipython",
    "version": 3
   },
   "file_extension": ".py",
   "mimetype": "text/x-python",
   "name": "python",
   "nbconvert_exporter": "python",
   "pygments_lexer": "ipython3",
   "version": "3.6.9"
  }
 },
 "nbformat": 4,
 "nbformat_minor": 4
}
