{
 "cells": [
  {
   "cell_type": "markdown",
   "metadata": {},
   "source": [
    "# Functional programming\n"
   ]
  },
  {
   "cell_type": "markdown",
   "metadata": {},
   "source": [
    "### Mutable data structures\n",
    "* list\n",
    "* dict\n",
    "* set"
   ]
  },
  {
   "cell_type": "code",
   "execution_count": 7,
   "metadata": {},
   "outputs": [
    {
     "name": "stdout",
     "output_type": "stream",
     "text": [
      "[{'name': 'Ada Lovelance', 'field': 'math', 'born': 1815, 'nobel': False}, {'name': 'Emy Noether', 'field': 'math', 'born': 1882, 'nobel': False}, {'name': 'Marie Curie', 'field': 'physics', 'born': 1867, 'nobel': True}, {'name': 'Tu Youyou', 'field': 'chemistry', 'born': 1930, 'nobel': True}, {'name': 'Ada Yonath', 'field': 'chemistry', 'born': 1939, 'nobel': True}, {'name': 'Vera Rubin', 'field': 'astronomy', 'born': 1928, 'nobel': False}, {'name': 'Sally Ride', 'field': 'physics', 'born': 1951, 'nobel': False}]\n"
     ]
    }
   ],
   "source": [
    "# list of dicts \n",
    "scientists = [\n",
    "    {'name': 'Ada Lovelance', 'field': 'math', 'born': 1815, 'nobel': False},\n",
    "    {'name': 'Emy Noether', 'field': 'math', 'born': 1882, 'nobel': False},\n",
    "    {'name': 'Marie Curie', 'field': 'physics', 'born': 1867, 'nobel': True},\n",
    "    {'name': 'Tu Youyou', 'field': 'chemistry', 'born': 1930, 'nobel': True},\n",
    "    {'name': 'Ada Yonath', 'field': 'chemistry', 'born': 1939, 'nobel': True},\n",
    "    {'name': 'Vera Rubin', 'field': 'astronomy', 'born': 1928, 'nobel': False},\n",
    "    {'name': 'Sally Ride', 'field': 'physics', 'born': 1951, 'nobel': False}\n",
    "]\n",
    "\n",
    "print(scientists)"
   ]
  },
  {
   "cell_type": "code",
   "execution_count": 8,
   "metadata": {},
   "outputs": [
    {
     "name": "stdout",
     "output_type": "stream",
     "text": [
      "[{'born': 1815, 'field': 'math', 'name': 'Ada Lovelance', 'nobel': False},\n",
      " {'born': 1882, 'field': 'math', 'name': 'Emy Noether', 'nobel': False},\n",
      " {'born': 1867, 'field': 'physics', 'name': 'Marie Curie', 'nobel': True},\n",
      " {'born': 1930, 'field': 'chemistry', 'name': 'Tu Youyou', 'nobel': True},\n",
      " {'born': 1939, 'field': 'chemistry', 'name': 'Ada Yonath', 'nobel': True},\n",
      " {'born': 1928, 'field': 'astronomy', 'name': 'Vera Rubin', 'nobel': False},\n",
      " {'born': 1951, 'field': 'physics', 'name': 'Sally Ride', 'nobel': False}]\n"
     ]
    }
   ],
   "source": [
    "from pprint import pprint  # pprint do this\n",
    "\n",
    "pprint(scientists)"
   ]
  },
  {
   "cell_type": "markdown",
   "metadata": {},
   "source": [
    "### Mutables data structures can be updated"
   ]
  },
  {
   "cell_type": "code",
   "execution_count": 9,
   "metadata": {},
   "outputs": [],
   "source": [
    "scientists[-2]['name'] = 'Ver Rubin'"
   ]
  },
  {
   "cell_type": "code",
   "execution_count": 10,
   "metadata": {},
   "outputs": [
    {
     "data": {
      "text/plain": [
       "'Ver Rubin'"
      ]
     },
     "execution_count": 10,
     "metadata": {},
     "output_type": "execute_result"
    }
   ],
   "source": [
    "scientists[-2]['name']"
   ]
  },
  {
   "cell_type": "markdown",
   "metadata": {},
   "source": [
    "### Inmutable data structures\n",
    "* set\n",
    "* frozenset\n",
    "* namedtuple"
   ]
  },
  {
   "cell_type": "code",
   "execution_count": 11,
   "metadata": {},
   "outputs": [],
   "source": [
    "# namedtuple\n",
    "import collections\n",
    "\n",
    "Scientists = collections.namedtuple('Scientists', [\n",
    "    'name',\n",
    "    'field',\n",
    "    'born',\n",
    "    'nobel',\n",
    "])"
   ]
  },
  {
   "cell_type": "code",
   "execution_count": 12,
   "metadata": {},
   "outputs": [
    {
     "data": {
      "text/plain": [
       "__main__.Scientists"
      ]
     },
     "execution_count": 12,
     "metadata": {},
     "output_type": "execute_result"
    }
   ],
   "source": [
    "Scientists"
   ]
  },
  {
   "cell_type": "markdown",
   "metadata": {},
   "source": [
    "### Instance an object in namedtuple"
   ]
  },
  {
   "cell_type": "code",
   "execution_count": 15,
   "metadata": {},
   "outputs": [],
   "source": [
    "ada = Scientists(name='Ada Lovelance', field='Math', born=1815, nobel=False)"
   ]
  },
  {
   "cell_type": "markdown",
   "metadata": {},
   "source": [
    "### Show data in namedtuple"
   ]
  },
  {
   "cell_type": "code",
   "execution_count": 16,
   "metadata": {},
   "outputs": [
    {
     "data": {
      "text/plain": [
       "'Ada Lovelance'"
      ]
     },
     "execution_count": 16,
     "metadata": {},
     "output_type": "execute_result"
    }
   ],
   "source": [
    "ada.name"
   ]
  },
  {
   "cell_type": "code",
   "execution_count": 17,
   "metadata": {},
   "outputs": [
    {
     "data": {
      "text/plain": [
       "False"
      ]
     },
     "execution_count": 17,
     "metadata": {},
     "output_type": "execute_result"
    }
   ],
   "source": [
    "ada[-1]"
   ]
  },
  {
   "cell_type": "markdown",
   "metadata": {},
   "source": [
    "### We cannot update a namedtuple"
   ]
  },
  {
   "cell_type": "code",
   "execution_count": 18,
   "metadata": {},
   "outputs": [
    {
     "ename": "AttributeError",
     "evalue": "can't set attribute",
     "output_type": "error",
     "traceback": [
      "\u001b[0;31m---------------------------------------------------------------------------\u001b[0m",
      "\u001b[0;31mAttributeError\u001b[0m                            Traceback (most recent call last)",
      "\u001b[0;32m<ipython-input-18-7aa11cc89ef5>\u001b[0m in \u001b[0;36m<module>\u001b[0;34m\u001b[0m\n\u001b[0;32m----> 1\u001b[0;31m \u001b[0mada\u001b[0m\u001b[0;34m.\u001b[0m\u001b[0mnobel\u001b[0m \u001b[0;34m=\u001b[0m \u001b[0;32mTrue\u001b[0m\u001b[0;34m\u001b[0m\u001b[0;34m\u001b[0m\u001b[0m\n\u001b[0m",
      "\u001b[0;31mAttributeError\u001b[0m: can't set attribute"
     ]
    }
   ],
   "source": [
    "ada.nobel = True"
   ]
  },
  {
   "cell_type": "markdown",
   "metadata": {},
   "source": [
    "### Easy way to instance an object in namedtuple"
   ]
  },
  {
   "cell_type": "code",
   "execution_count": 19,
   "metadata": {},
   "outputs": [],
   "source": [
    "marie = Scientists('Marie Curie', 'Physics', 1867, True)"
   ]
  },
  {
   "cell_type": "code",
   "execution_count": 20,
   "metadata": {},
   "outputs": [
    {
     "data": {
      "text/plain": [
       "Scientists(name='Marie Curie', field='Physics', born=1867, nobel=True)"
      ]
     },
     "execution_count": 20,
     "metadata": {},
     "output_type": "execute_result"
    }
   ],
   "source": [
    "marie"
   ]
  },
  {
   "cell_type": "code",
   "execution_count": 21,
   "metadata": {},
   "outputs": [
    {
     "data": {
      "text/plain": [
       "'Marie Curie'"
      ]
     },
     "execution_count": 21,
     "metadata": {},
     "output_type": "execute_result"
    }
   ],
   "source": [
    "marie.name"
   ]
  },
  {
   "cell_type": "code",
   "execution_count": 22,
   "metadata": {},
   "outputs": [
    {
     "data": {
      "text/plain": [
       "1867"
      ]
     },
     "execution_count": 22,
     "metadata": {},
     "output_type": "execute_result"
    }
   ],
   "source": [
    "marie[2]"
   ]
  },
  {
   "cell_type": "markdown",
   "metadata": {},
   "source": [
    "# Filter function"
   ]
  },
  {
   "cell_type": "code",
   "execution_count": 25,
   "metadata": {},
   "outputs": [],
   "source": [
    "# first transform Scientists into a tuple\n",
    "scientist = (\n",
    "    Scientists('Marie Curie', 'Physics', 1867, True),\n",
    "    Scientists('Ada Lovelance', 'Math', 1815, False),\n",
    "    Scientists('Ada Yonath', 'Chemistry', 1938, True),\n",
    "    Scientists('Vera Rubin', 'Astronomy', 1928, False),\n",
    "    Scientists('Sally Ride', 'Physics', 1951, False),\n",
    "    Scientists('Tu Youyou', 'Chemistry', 1930, True),\n",
    "    Scientists('Emmy Noether', 'Math', 1882, False)\n",
    ")"
   ]
  },
  {
   "cell_type": "code",
   "execution_count": 26,
   "metadata": {},
   "outputs": [
    {
     "name": "stdout",
     "output_type": "stream",
     "text": [
      "(Scientists(name='Marie Curie', field='Physics', born=1867, nobel=True),\n",
      " Scientists(name='Ada Lovelance', field='Math', born=1815, nobel=False),\n",
      " Scientists(name='Ada Yonath', field='Chemistry', born=1938, nobel=True),\n",
      " Scientists(name='Vera Rubin', field='Astronomy', born=1928, nobel=False),\n",
      " Scientists(name='Sally Ride', field='Physics', born=1951, nobel=False),\n",
      " Scientists(name='Tu Youyou', field='Chemistry', born=1930, nobel=True),\n",
      " Scientists(name='Emmy Noether', field='Math', born=1882, nobel=False))\n"
     ]
    }
   ],
   "source": [
    "pprint(scientist)"
   ]
  },
  {
   "cell_type": "markdown",
   "metadata": {},
   "source": [
    "### Filter with lambda expression"
   ]
  },
  {
   "cell_type": "code",
   "execution_count": 29,
   "metadata": {},
   "outputs": [
    {
     "name": "stdout",
     "output_type": "stream",
     "text": [
      "<filter object at 0x7fa6c38c96a0>\n"
     ]
    },
    {
     "data": {
      "text/plain": [
       "filter"
      ]
     },
     "execution_count": 29,
     "metadata": {},
     "output_type": "execute_result"
    }
   ],
   "source": [
    "fs = filter(lambda x: x.nobel is True, scientist)\n",
    "\n",
    "print(fs)\n",
    "type(fs)"
   ]
  },
  {
   "cell_type": "markdown",
   "metadata": {},
   "source": [
    "### Iterate filter values"
   ]
  },
  {
   "cell_type": "code",
   "execution_count": 30,
   "metadata": {},
   "outputs": [
    {
     "data": {
      "text/plain": [
       "Scientists(name='Marie Curie', field='Physics', born=1867, nobel=True)"
      ]
     },
     "execution_count": 30,
     "metadata": {},
     "output_type": "execute_result"
    }
   ],
   "source": [
    "next(fs)"
   ]
  },
  {
   "cell_type": "code",
   "execution_count": 31,
   "metadata": {},
   "outputs": [
    {
     "data": {
      "text/plain": [
       "Scientists(name='Ada Yonath', field='Chemistry', born=1938, nobel=True)"
      ]
     },
     "execution_count": 31,
     "metadata": {},
     "output_type": "execute_result"
    }
   ],
   "source": [
    "next(fs)"
   ]
  },
  {
   "cell_type": "code",
   "execution_count": 32,
   "metadata": {},
   "outputs": [
    {
     "data": {
      "text/plain": [
       "Scientists(name='Tu Youyou', field='Chemistry', born=1930, nobel=True)"
      ]
     },
     "execution_count": 32,
     "metadata": {},
     "output_type": "execute_result"
    }
   ],
   "source": [
    "next(fs)"
   ]
  },
  {
   "cell_type": "code",
   "execution_count": 33,
   "metadata": {},
   "outputs": [
    {
     "ename": "StopIteration",
     "evalue": "",
     "output_type": "error",
     "traceback": [
      "\u001b[0;31m---------------------------------------------------------------------------\u001b[0m",
      "\u001b[0;31mStopIteration\u001b[0m                             Traceback (most recent call last)",
      "\u001b[0;32m<ipython-input-33-cc337a681289>\u001b[0m in \u001b[0;36m<module>\u001b[0;34m\u001b[0m\n\u001b[0;32m----> 1\u001b[0;31m \u001b[0mnext\u001b[0m\u001b[0;34m(\u001b[0m\u001b[0mfs\u001b[0m\u001b[0;34m)\u001b[0m\u001b[0;34m\u001b[0m\u001b[0;34m\u001b[0m\u001b[0m\n\u001b[0m",
      "\u001b[0;31mStopIteration\u001b[0m: "
     ]
    }
   ],
   "source": [
    "next(fs)"
   ]
  },
  {
   "cell_type": "markdown",
   "metadata": {},
   "source": [
    "### Show all values"
   ]
  },
  {
   "cell_type": "code",
   "execution_count": 36,
   "metadata": {},
   "outputs": [
    {
     "name": "stdout",
     "output_type": "stream",
     "text": [
      "(Scientists(name='Marie Curie', field='Physics', born=1867, nobel=True),\n",
      " Scientists(name='Ada Yonath', field='Chemistry', born=1938, nobel=True),\n",
      " Scientists(name='Tu Youyou', field='Chemistry', born=1930, nobel=True))\n"
     ]
    }
   ],
   "source": [
    "all_noble_scientists = tuple(filter(lambda x: x.nobel == True, scientist))\n",
    "\n",
    "pprint(all_noble_scientists)"
   ]
  },
  {
   "cell_type": "markdown",
   "metadata": {},
   "source": [
    "### Use function instead lambda expression"
   ]
  },
  {
   "cell_type": "code",
   "execution_count": 38,
   "metadata": {},
   "outputs": [
    {
     "name": "stdout",
     "output_type": "stream",
     "text": [
      "Scientists(name='Marie Curie', field='Physics', born=1867, nobel=True)\n",
      "Scientists(name='Ada Yonath', field='Chemistry', born=1938, nobel=True)\n",
      "Scientists(name='Tu Youyou', field='Chemistry', born=1930, nobel=True)\n"
     ]
    }
   ],
   "source": [
    "def all_nobel():\n",
    "    for x in scientist:\n",
    "        if x.nobel is True:\n",
    "            print(x)\n",
    "            \n",
    "\n",
    "all_nobel()"
   ]
  },
  {
   "cell_type": "code",
   "execution_count": 39,
   "metadata": {},
   "outputs": [
    {
     "name": "stdout",
     "output_type": "stream",
     "text": [
      "Scientists(name='Marie Curie', field='Physics', born=1867, nobel=True)\n",
      "Scientists(name='Ada Yonath', field='Chemistry', born=1938, nobel=True)\n",
      "Scientists(name='Tu Youyou', field='Chemistry', born=1930, nobel=True)\n"
     ]
    }
   ],
   "source": [
    "fs = filter(all_nobel(), scientist)"
   ]
  },
  {
   "cell_type": "markdown",
   "metadata": {},
   "source": [
    "### List comprenhension"
   ]
  },
  {
   "cell_type": "code",
   "execution_count": 40,
   "metadata": {},
   "outputs": [
    {
     "name": "stdout",
     "output_type": "stream",
     "text": [
      "[Scientists(name='Marie Curie', field='Physics', born=1867, nobel=True),\n",
      " Scientists(name='Ada Yonath', field='Chemistry', born=1938, nobel=True),\n",
      " Scientists(name='Tu Youyou', field='Chemistry', born=1930, nobel=True)]\n"
     ]
    }
   ],
   "source": [
    "pprint([x for x in scientist if x.nobel is True])"
   ]
  },
  {
   "cell_type": "code",
   "execution_count": 41,
   "metadata": {},
   "outputs": [
    {
     "name": "stdout",
     "output_type": "stream",
     "text": [
      "(Scientists(name='Marie Curie', field='Physics', born=1867, nobel=True),\n",
      " Scientists(name='Ada Yonath', field='Chemistry', born=1938, nobel=True),\n",
      " Scientists(name='Tu Youyou', field='Chemistry', born=1930, nobel=True))\n"
     ]
    }
   ],
   "source": [
    "# transform in tuple\n",
    "pprint(tuple([x for x in scientist if x.nobel is True]))"
   ]
  },
  {
   "cell_type": "markdown",
   "metadata": {},
   "source": [
    "# Map function"
   ]
  },
  {
   "cell_type": "code",
   "execution_count": 42,
   "metadata": {},
   "outputs": [
    {
     "name": "stdout",
     "output_type": "stream",
     "text": [
      "(Scientists(name='Marie Curie', field='Physics', born=1867, nobel=True),\n",
      " Scientists(name='Ada Lovelance', field='Math', born=1815, nobel=False),\n",
      " Scientists(name='Ada Yonath', field='Chemistry', born=1938, nobel=True),\n",
      " Scientists(name='Vera Rubin', field='Astronomy', born=1928, nobel=False),\n",
      " Scientists(name='Sally Ride', field='Physics', born=1951, nobel=False),\n",
      " Scientists(name='Tu Youyou', field='Chemistry', born=1930, nobel=True),\n",
      " Scientists(name='Emmy Noether', field='Math', born=1882, nobel=False))\n"
     ]
    }
   ],
   "source": [
    "pprint(scientist)"
   ]
  },
  {
   "cell_type": "markdown",
   "metadata": {},
   "source": [
    "### Map with lambda expression"
   ]
  },
  {
   "cell_type": "code",
   "execution_count": 43,
   "metadata": {},
   "outputs": [],
   "source": [
    "names_and_ages = tuple(map(\n",
    "    lambda x: {'Name': x.name.upper(), 'Age': (2022 - x.born)},\n",
    "    scientist\n",
    "))"
   ]
  },
  {
   "cell_type": "markdown",
   "metadata": {},
   "source": [
    "### Show values"
   ]
  },
  {
   "cell_type": "code",
   "execution_count": 46,
   "metadata": {},
   "outputs": [
    {
     "name": "stdout",
     "output_type": "stream",
     "text": [
      "({'Age': 155, 'Name': 'MARIE CURIE'},\n",
      " {'Age': 207, 'Name': 'ADA LOVELANCE'},\n",
      " {'Age': 84, 'Name': 'ADA YONATH'},\n",
      " {'Age': 94, 'Name': 'VERA RUBIN'},\n",
      " {'Age': 71, 'Name': 'SALLY RIDE'},\n",
      " {'Age': 92, 'Name': 'TU YOUYOU'},\n",
      " {'Age': 140, 'Name': 'EMMY NOETHER'})\n"
     ]
    }
   ],
   "source": [
    "pprint(names_and_ages)"
   ]
  },
  {
   "cell_type": "markdown",
   "metadata": {},
   "source": [
    "### List comprenhension"
   ]
  },
  {
   "cell_type": "code",
   "execution_count": 47,
   "metadata": {},
   "outputs": [
    {
     "name": "stdout",
     "output_type": "stream",
     "text": [
      "[{'Age': 153, 'Name': 'MARIE CURIE'},\n",
      " {'Age': 205, 'Name': 'ADA LOVELANCE'},\n",
      " {'Age': 82, 'Name': 'ADA YONATH'},\n",
      " {'Age': 92, 'Name': 'VERA RUBIN'},\n",
      " {'Age': 69, 'Name': 'SALLY RIDE'},\n",
      " {'Age': 90, 'Name': 'TU YOUYOU'},\n",
      " {'Age': 138, 'Name': 'EMMY NOETHER'}]\n"
     ]
    }
   ],
   "source": [
    "pprint([{'Name': x.name.upper(), 'Age': (2020 - x.born)} for x in scientist])"
   ]
  },
  {
   "cell_type": "code",
   "execution_count": 48,
   "metadata": {},
   "outputs": [
    {
     "name": "stdout",
     "output_type": "stream",
     "text": [
      "({'Age': 153, 'Name': 'MARIE CURIE'},\n",
      " {'Age': 205, 'Name': 'ADA LOVELANCE'},\n",
      " {'Age': 82, 'Name': 'ADA YONATH'},\n",
      " {'Age': 92, 'Name': 'VERA RUBIN'},\n",
      " {'Age': 69, 'Name': 'SALLY RIDE'},\n",
      " {'Age': 90, 'Name': 'TU YOUYOU'},\n",
      " {'Age': 138, 'Name': 'EMMY NOETHER'})\n"
     ]
    }
   ],
   "source": [
    "# transform in tuple\n",
    "pprint(tuple([{'Name': x.name.upper(), 'Age': (2020 - x.born)} for x in scientist]))"
   ]
  },
  {
   "cell_type": "markdown",
   "metadata": {},
   "source": [
    "# Reduse function"
   ]
  },
  {
   "cell_type": "code",
   "execution_count": 55,
   "metadata": {},
   "outputs": [
    {
     "name": "stdout",
     "output_type": "stream",
     "text": [
      "Help on built-in function reduce in module _functools:\n",
      "\n",
      "reduce(...)\n",
      "    reduce(function, sequence[, initial]) -> value\n",
      "    \n",
      "    Apply a function of two arguments cumulatively to the items of a sequence,\n",
      "    from left to right, so as to reduce the sequence to a single value.\n",
      "    For example, reduce(lambda x, y: x+y, [1, 2, 3, 4, 5]) calculates\n",
      "    ((((1+2)+3)+4)+5).  If initial is present, it is placed before the items\n",
      "    of the sequence in the calculation, and serves as a default when the\n",
      "    sequence is empty.\n",
      "\n"
     ]
    }
   ],
   "source": [
    "from functools import reduce  # reduce a sequence applying a function repeatedly\n",
    "\n",
    "help(reduce)"
   ]
  },
  {
   "cell_type": "code",
   "execution_count": 56,
   "metadata": {},
   "outputs": [
    {
     "data": {
      "text/plain": [
       "55"
      ]
     },
     "execution_count": 56,
     "metadata": {},
     "output_type": "execute_result"
    }
   ],
   "source": [
    "lst = [1, 2, 3, 4, 5, 6, 7, 8, 9, 10]\n",
    "\n",
    "add = lambda x, y: x + y\n",
    "\n",
    "reduce(add, lst, 0)"
   ]
  },
  {
   "cell_type": "code",
   "execution_count": 60,
   "metadata": {},
   "outputs": [],
   "source": [
    "## Example with tuple"
   ]
  },
  {
   "cell_type": "code",
   "execution_count": 61,
   "metadata": {},
   "outputs": [
    {
     "name": "stdout",
     "output_type": "stream",
     "text": [
      "(Scientists(name='Marie Curie', field='Physics', born=1867, nobel=True),\n",
      " Scientists(name='Ada Lovelance', field='Math', born=1815, nobel=False),\n",
      " Scientists(name='Ada Yonath', field='Chemistry', born=1938, nobel=True),\n",
      " Scientists(name='Vera Rubin', field='Astronomy', born=1928, nobel=False),\n",
      " Scientists(name='Sally Ride', field='Physics', born=1951, nobel=False),\n",
      " Scientists(name='Tu Youyou', field='Chemistry', born=1930, nobel=True),\n",
      " Scientists(name='Emmy Noether', field='Math', born=1882, nobel=False))\n"
     ]
    }
   ],
   "source": [
    "pprint(scientist)"
   ]
  },
  {
   "cell_type": "code",
   "execution_count": 62,
   "metadata": {},
   "outputs": [
    {
     "name": "stdout",
     "output_type": "stream",
     "text": [
      "({'Age': 155, 'Name': 'MARIE CURIE'},\n",
      " {'Age': 207, 'Name': 'ADA LOVELANCE'},\n",
      " {'Age': 84, 'Name': 'ADA YONATH'},\n",
      " {'Age': 94, 'Name': 'VERA RUBIN'},\n",
      " {'Age': 71, 'Name': 'SALLY RIDE'},\n",
      " {'Age': 92, 'Name': 'TU YOUYOU'},\n",
      " {'Age': 140, 'Name': 'EMMY NOETHER'})\n"
     ]
    }
   ],
   "source": [
    "pprint(names_and_ages)"
   ]
  },
  {
   "cell_type": "code",
   "execution_count": 67,
   "metadata": {},
   "outputs": [
    {
     "data": {
      "text/plain": [
       "843"
      ]
     },
     "execution_count": 67,
     "metadata": {},
     "output_type": "execute_result"
    }
   ],
   "source": [
    "total_age = reduce(\n",
    "    lambda accumulator, x: accumulator + x['Age'],\n",
    "    names_and_ages,\n",
    "    0\n",
    ")\n",
    "\n",
    "total_age"
   ]
  },
  {
   "cell_type": "code",
   "execution_count": 153,
   "metadata": {},
   "outputs": [
    {
     "data": {
      "text/plain": [
       "829"
      ]
     },
     "execution_count": 153,
     "metadata": {},
     "output_type": "execute_result"
    }
   ],
   "source": [
    "sum(x['Age'] for x in names_and_ages)"
   ]
  },
  {
   "cell_type": "code",
   "execution_count": 68,
   "metadata": {},
   "outputs": [
    {
     "name": "stdout",
     "output_type": "stream",
     "text": [
      "[{'born': 1815, 'field': 'math', 'name': 'Ada Lovelance', 'nobel': False},\n",
      " {'born': 1882, 'field': 'math', 'name': 'Emy Noether', 'nobel': False},\n",
      " {'born': 1867, 'field': 'physics', 'name': 'Marie Curie', 'nobel': True},\n",
      " {'born': 1930, 'field': 'chemistry', 'name': 'Tu Youyou', 'nobel': True},\n",
      " {'born': 1939, 'field': 'chemistry', 'name': 'Ada Yonath', 'nobel': True},\n",
      " {'born': 1928, 'field': 'astronomy', 'name': 'Ver Rubin', 'nobel': False},\n",
      " {'born': 1951, 'field': 'physics', 'name': 'Sally Ride', 'nobel': False}]\n"
     ]
    }
   ],
   "source": [
    "pprint(scientists)"
   ]
  },
  {
   "cell_type": "code",
   "execution_count": 69,
   "metadata": {},
   "outputs": [],
   "source": [
    "def reducer(accumulator, value):\n",
    "    accumulator[value['field']].append(value['name'])\n",
    "    \n",
    "    return accumulator\n",
    "\n",
    "\n",
    "scientists_by_field = reduce(\n",
    "    reducer,\n",
    "    scientists,\n",
    "    {'math': [], 'physics': [], 'chemistry': [], 'astronomy': []}\n",
    ")"
   ]
  },
  {
   "cell_type": "code",
   "execution_count": 70,
   "metadata": {},
   "outputs": [
    {
     "name": "stdout",
     "output_type": "stream",
     "text": [
      "{'astronomy': ['Ver Rubin'],\n",
      " 'chemistry': ['Tu Youyou', 'Ada Yonath'],\n",
      " 'math': ['Ada Lovelance', 'Emy Noether'],\n",
      " 'physics': ['Marie Curie', 'Sally Ride']}\n"
     ]
    }
   ],
   "source": [
    "pprint(scientists_by_field)"
   ]
  },
  {
   "cell_type": "code",
   "execution_count": null,
   "metadata": {},
   "outputs": [],
   "source": []
  }
 ],
 "metadata": {
  "kernelspec": {
   "display_name": "Python 3",
   "language": "python",
   "name": "python3"
  },
  "language_info": {
   "codemirror_mode": {
    "name": "ipython",
    "version": 3
   },
   "file_extension": ".py",
   "mimetype": "text/x-python",
   "name": "python",
   "nbconvert_exporter": "python",
   "pygments_lexer": "ipython3",
   "version": "3.9.6"
  }
 },
 "nbformat": 4,
 "nbformat_minor": 4
}
