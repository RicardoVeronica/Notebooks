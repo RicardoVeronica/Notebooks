{
 "cells": [
  {
   "cell_type": "markdown",
   "metadata": {},
   "source": [
    "# Basic"
   ]
  },
  {
   "cell_type": "markdown",
   "metadata": {},
   "source": [
    "### Variables"
   ]
  },
  {
   "cell_type": "code",
   "execution_count": 1,
   "metadata": {},
   "outputs": [
    {
     "name": "stdout",
     "output_type": "stream",
     "text": [
      "2\n"
     ]
    }
   ],
   "source": [
    "x = 1\n",
    "y = 2\n",
    "x = y\n",
    "print(x)"
   ]
  },
  {
   "cell_type": "markdown",
   "metadata": {},
   "source": [
    "### basic types"
   ]
  },
  {
   "cell_type": "code",
   "execution_count": 19,
   "metadata": {},
   "outputs": [
    {
     "name": "stdout",
     "output_type": "stream",
     "text": [
      "Hi 1 True None\n"
     ]
    }
   ],
   "source": [
    "string = 'Hello'  # Strings are inmmutable objects\n",
    "string = 'Hi'  # Have different id() of string = \"Hello\"\n",
    "number = 1  # Exist int, float and complex\n",
    "boolean = True  # Booleans are numbers to True = 1, Flase = 0\n",
    "none = None  # Is like null\n",
    "\n",
    "print(string, number, boolean, none)"
   ]
  },
  {
   "cell_type": "markdown",
   "metadata": {},
   "source": [
    "### Simple math operators"
   ]
  },
  {
   "cell_type": "code",
   "execution_count": 2,
   "metadata": {},
   "outputs": [
    {
     "name": "stdout",
     "output_type": "stream",
     "text": [
      "addition: 1 + 2 = 3\n",
      "subtraction: 2 - 1 = 1\n",
      "multiplication: 2 * 1 = 2\n",
      "division: 5 / 2 = 2.5 or 4 / 2 = 2.0\n",
      "exact division: 5 // 2 = 2 or 4 // 2 = 2\n",
      "module: 5 % 2 = 1 or 4 % 2 = 0\n",
      "power: 5 ** 2 = 25\n"
     ]
    }
   ],
   "source": [
    "print(f'addition: 1 + 2 = {1 + 2}')\n",
    "print(f'subtraction: 2 - 1 = {2 - 1}')\n",
    "print(f'multiplication: 2 * 1 = {2 * 1}')\n",
    "print(f'division: 5 / 2 = {5 / 2} or 4 / 2 = {4 / 2}')\n",
    "print(f'exact division: 5 // 2 = {5 // 2} or 4 // 2 = {4 // 2}')\n",
    "print(f'module: 5 % 2 = {5 % 2} or 4 % 2 = {4 % 2}')\n",
    "print(f'power: 5 ** 2 = {5 ** 2}')"
   ]
  },
  {
   "cell_type": "markdown",
   "metadata": {},
   "source": [
    "### Boolean conditions and logic operators"
   ]
  },
  {
   "cell_type": "code",
   "execution_count": 6,
   "metadata": {},
   "outputs": [
    {
     "name": "stdout",
     "output_type": "stream",
     "text": [
      "False\n",
      "True\n",
      "False\n",
      "True\n",
      "-----\n",
      "False\n",
      "False\n",
      "True\n"
     ]
    }
   ],
   "source": [
    "a, b = 1, 2\n",
    "\n",
    "print(a == 2)  # False\n",
    "print(a < 2)  # True\n",
    "print(a > 2)  # False\n",
    "print(a <= 2)  # True\n",
    "\n",
    "print(\"-----\")\n",
    "\n",
    "print(True == False)\n",
    "print(True < False)\n",
    "print(True > False)"
   ]
  },
  {
   "cell_type": "markdown",
   "metadata": {},
   "source": [
    "### Conditional statement or control flow"
   ]
  },
  {
   "cell_type": "code",
   "execution_count": 9,
   "metadata": {},
   "outputs": [
    {
     "name": "stdout",
     "output_type": "stream",
     "text": [
      "Whats you name? Ricardo\n",
      "Welcome Ricardo\n"
     ]
    }
   ],
   "source": [
    "name = input('Whats you name? ')\n",
    "\n",
    "if name == 'Ricardo':\n",
    "    print(f'Welcome {name}')\n",
    "elif name == 'Veronica':\n",
    "    print(f'Hello Ricardo {name}')\n",
    "else:\n",
    "    print(f'Do I know you {name}?')"
   ]
  },
  {
   "cell_type": "markdown",
   "metadata": {},
   "source": [
    "### For loop"
   ]
  },
  {
   "cell_type": "code",
   "execution_count": 4,
   "metadata": {},
   "outputs": [
    {
     "name": "stdout",
     "output_type": "stream",
     "text": [
      "2\n",
      "4\n",
      "6\n",
      "8\n",
      "10\n"
     ]
    }
   ],
   "source": [
    "# for number in range(1, 11):\n",
    "    # print(number)\n",
    "    \n",
    "lst = [1, 2, 3, 4, 5]\n",
    "\n",
    "for item in lst:\n",
    "    double = item * 2\n",
    "    print(double)"
   ]
  },
  {
   "cell_type": "markdown",
   "metadata": {},
   "source": [
    "### While loop"
   ]
  },
  {
   "cell_type": "code",
   "execution_count": 16,
   "metadata": {},
   "outputs": [
    {
     "name": "stdout",
     "output_type": "stream",
     "text": [
      "give me a number between 0 and 20: 17\n",
      "17\n",
      "18\n",
      "19\n",
      "20\n"
     ]
    }
   ],
   "source": [
    "# number = 1\n",
    "\n",
    "# while number < 11:\n",
    "    # print(number)\n",
    "    # number += 1    \n",
    "    \n",
    "number = int(input('give me a number between 0 and 20: '))\n",
    "\n",
    "while True:\n",
    "    print(number)\n",
    "    \n",
    "    number += 1\n",
    "    \n",
    "    if number == 21:\n",
    "        break"
   ]
  },
  {
   "cell_type": "markdown",
   "metadata": {},
   "source": [
    "### Data structures"
   ]
  },
  {
   "cell_type": "code",
   "execution_count": 24,
   "metadata": {},
   "outputs": [
    {
     "name": "stdout",
     "output_type": "stream",
     "text": [
      "<class 'list'>\n",
      "<class 'dict'>\n",
      "<class 'tuple'>\n",
      "<class 'set'>\n",
      "<class 'frozenset'>\n"
     ]
    }
   ],
   "source": [
    "print(type([]))\n",
    "print(type({}))\n",
    "print(type(()))\n",
    "print(type(set()))\n",
    "print(type(frozenset()))"
   ]
  },
  {
   "cell_type": "markdown",
   "metadata": {},
   "source": [
    "### Mutable / Immutable types"
   ]
  },
  {
   "cell_type": "code",
   "execution_count": 6,
   "metadata": {},
   "outputs": [
    {
     "name": "stdout",
     "output_type": "stream",
     "text": [
      "[100, 2, 3, 4]\n"
     ]
    }
   ],
   "source": [
    "# Mutable: list, dict, set.\n",
    "lst = [1, 2, 3]\n",
    "\n",
    "lst[0] = 100\n",
    "lst.append(4)\n",
    "\n",
    "print(lst)"
   ]
  },
  {
   "cell_type": "code",
   "execution_count": 23,
   "metadata": {},
   "outputs": [
    {
     "ename": "TypeError",
     "evalue": "'str' object does not support item assignment",
     "output_type": "error",
     "traceback": [
      "\u001b[0;31m---------------------------------------------------------------------------\u001b[0m",
      "\u001b[0;31mTypeError\u001b[0m                                 Traceback (most recent call last)",
      "\u001b[0;32m<ipython-input-23-f898d28f8765>\u001b[0m in \u001b[0;36m<module>\u001b[0;34m\u001b[0m\n\u001b[1;32m      1\u001b[0m \u001b[0;31m# str inmutable\u001b[0m\u001b[0;34m\u001b[0m\u001b[0;34m\u001b[0m\u001b[0;34m\u001b[0m\u001b[0m\n\u001b[1;32m      2\u001b[0m \u001b[0mname\u001b[0m \u001b[0;34m=\u001b[0m \u001b[0;34m'Richard'\u001b[0m\u001b[0;34m\u001b[0m\u001b[0;34m\u001b[0m\u001b[0m\n\u001b[0;32m----> 3\u001b[0;31m \u001b[0mname\u001b[0m\u001b[0;34m[\u001b[0m\u001b[0;36m0\u001b[0m\u001b[0;34m]\u001b[0m \u001b[0;34m=\u001b[0m \u001b[0;34m'r'\u001b[0m\u001b[0;34m\u001b[0m\u001b[0;34m\u001b[0m\u001b[0m\n\u001b[0m\u001b[1;32m      4\u001b[0m \u001b[0mprint\u001b[0m\u001b[0;34m(\u001b[0m\u001b[0mname\u001b[0m\u001b[0;34m)\u001b[0m\u001b[0;34m\u001b[0m\u001b[0;34m\u001b[0m\u001b[0m\n",
      "\u001b[0;31mTypeError\u001b[0m: 'str' object does not support item assignment"
     ]
    }
   ],
   "source": [
    "# Immutable: str, int, bool, tuple, fronzenset\n",
    "name = 'Richard'\n",
    "\n",
    "name[0] = 'r'\n",
    "print(name)"
   ]
  },
  {
   "cell_type": "markdown",
   "metadata": {},
   "source": [
    "### Functions"
   ]
  },
  {
   "cell_type": "code",
   "execution_count": 5,
   "metadata": {},
   "outputs": [
    {
     "data": {
      "text/plain": [
       "35"
      ]
     },
     "execution_count": 5,
     "metadata": {},
     "output_type": "execute_result"
    }
   ],
   "source": [
    "def sum(x, y): return x + y\n",
    "\n",
    "sum(10, 25)"
   ]
  },
  {
   "cell_type": "markdown",
   "metadata": {},
   "source": [
    "### HTML with Python"
   ]
  },
  {
   "cell_type": "code",
   "execution_count": 2,
   "metadata": {},
   "outputs": [
    {
     "name": "stdout",
     "output_type": "stream",
     "text": [
      "<ul>\n",
      "\t<li>Ricardo</li>\n",
      "\t<li>Hugo</li>\n",
      "\t<li>Fernando</li>\n",
      "</ul>\n"
     ]
    }
   ],
   "source": [
    "peoples = (\"Ricardo\", \"Hugo\", \"Fernando\")\n",
    "\n",
    "output = \"<ul>\\n\"\n",
    "\n",
    "for people in peoples:\n",
    "    output += f\"\\t<li>{people}</li>\\n\"\n",
    "    \n",
    "output += \"</ul>\"\n",
    "\n",
    "print(output)"
   ]
  },
  {
   "cell_type": "code",
   "execution_count": null,
   "metadata": {},
   "outputs": [],
   "source": []
  }
 ],
 "metadata": {
  "kernelspec": {
   "display_name": "Python 3 (ipykernel)",
   "language": "python",
   "name": "python3"
  },
  "language_info": {
   "codemirror_mode": {
    "name": "ipython",
    "version": 3
   },
   "file_extension": ".py",
   "mimetype": "text/x-python",
   "name": "python",
   "nbconvert_exporter": "python",
   "pygments_lexer": "ipython3",
   "version": "3.9.6"
  }
 },
 "nbformat": 4,
 "nbformat_minor": 4
}
