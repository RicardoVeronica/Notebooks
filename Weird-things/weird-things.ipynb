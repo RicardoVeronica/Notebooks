{
 "cells": [
  {
   "cell_type": "markdown",
   "id": "fbb13523",
   "metadata": {},
   "source": [
    "# Weird things in Python"
   ]
  },
  {
   "cell_type": "markdown",
   "id": "498f1b9e",
   "metadata": {},
   "source": [
    "## Unblock the Zen of Python"
   ]
  },
  {
   "cell_type": "code",
   "execution_count": 2,
   "id": "f9e3b8ff",
   "metadata": {},
   "outputs": [],
   "source": [
    "import this"
   ]
  },
  {
   "cell_type": "markdown",
   "id": "256617e9",
   "metadata": {},
   "source": [
    "## Open a Python comic in the browser"
   ]
  },
  {
   "cell_type": "code",
   "execution_count": 3,
   "id": "be116972",
   "metadata": {},
   "outputs": [],
   "source": [
    "import antigravity"
   ]
  },
  {
   "cell_type": "markdown",
   "id": "64b38ec7",
   "metadata": {},
   "source": [
    "## Walrus operator :="
   ]
  },
  {
   "cell_type": "code",
   "execution_count": 23,
   "id": "a4c5f32f",
   "metadata": {},
   "outputs": [
    {
     "name": "stdout",
     "output_type": "stream",
     "text": [
      "6\n",
      "True\n"
     ]
    }
   ],
   "source": [
    "def func(x):\n",
    "    return x + 1\n",
    "\n",
    "\n",
    "# This is the same syntax\n",
    "# (x := func(5))\n",
    "# x = func(5)\n",
    "# print(x)\n",
    "\n",
    "if (x := func(5)) > 5:\n",
    "    print(x)  # 6\n",
    "    \n",
    "if x := func(5) > 5:\n",
    "    '''Evaluate if func(5) is greater than 5'''\n",
    "    print(x)  # True"
   ]
  },
  {
   "cell_type": "markdown",
   "id": "a5783f49",
   "metadata": {},
   "source": [
    "## Interning method for Strings\n",
    "- is != ==\n",
    "- == compare the equality of objects\n",
    "- is, Compare the memory location of an object (Every obj in Python has an ID in memory)\n",
    "- Remember Strings in Python are inmmutables\n",
    "- Interning: A method of storing only one copy of each distinct strings value which must be inmmutable"
   ]
  },
  {
   "cell_type": "code",
   "execution_count": 41,
   "id": "736c7d02",
   "metadata": {},
   "outputs": [
    {
     "name": "stdout",
     "output_type": "stream",
     "text": [
      "True\n",
      "False\n",
      "False\n"
     ]
    }
   ],
   "source": [
    "# a and b are equals in (is) operator for Interning method\n",
    "a = \"Okey\"\n",
    "b = \"O\" + \"k\" + \"e\" + \"y\"\n",
    "c = \"\".join([\"O\", \"k\", \"e\", \"y\"])  # This not because use the join method\n",
    "\n",
    "# print(a == b)\n",
    "# print(a == c)\n",
    "# print(b == c)\n",
    "\n",
    "print(a is b)\n",
    "print(a is c)\n",
    "print(b is c)"
   ]
  },
  {
   "cell_type": "markdown",
   "id": "fc50f064",
   "metadata": {},
   "source": [
    "## Chained operations\n",
    "- Remember 1 == True in Python, booleans are numbers"
   ]
  },
  {
   "cell_type": "code",
   "execution_count": 42,
   "id": "fdc934d9",
   "metadata": {},
   "outputs": [
    {
     "name": "stdout",
     "output_type": "stream",
     "text": [
      "True\n",
      "True\n",
      "False\n",
      "False\n"
     ]
    }
   ],
   "source": [
    "print((1 == 1) in [1])  # True in [True] = True\n",
    "print(1 == (1 in [1]))  # 1 == True = True\n",
    "print(1 < (0 < 1))  # 1 < True = False\n",
    "print(1 < 0 < 1)  # 1 < 0 and 0 < 1 = False"
   ]
  },
  {
   "cell_type": "markdown",
   "id": "b8cc422a",
   "metadata": {},
   "source": [
    "## Dictionary key hashing\n",
    "- The hash function is for get the hash of all Python values"
   ]
  },
  {
   "cell_type": "code",
   "execution_count": 54,
   "id": "0fa8d2ed",
   "metadata": {},
   "outputs": [
    {
     "name": "stdout",
     "output_type": "stream",
     "text": [
      "1\n",
      "1\n",
      "1\n",
      "{1: 'Allo', 1.5: 'Hola', 1.8: 'Arigato'}\n"
     ]
    }
   ],
   "source": [
    "d = {}\n",
    "d[1] = \"Hi\"\n",
    "d[1.0] = \"Hello\"\n",
    "d[1.5] = \"Hola\"\n",
    "d[1.8] = \"Arigato\"\n",
    "d[2 - 1] = \"Allo\"\n",
    "\n",
    "print(hash(1))\n",
    "print(hash(1.0))\n",
    "print(hash(2 - 1))\n",
    "print(d)"
   ]
  },
  {
   "cell_type": "markdown",
   "id": "649d47eb",
   "metadata": {},
   "source": [
    "## All function\n",
    "- The all function return True if all the values in a iterable object are True"
   ]
  },
  {
   "cell_type": "code",
   "execution_count": 63,
   "id": "7c3ef276",
   "metadata": {},
   "outputs": [
    {
     "name": "stdout",
     "output_type": "stream",
     "text": [
      "True\n",
      "False\n",
      "False\n",
      "True\n"
     ]
    }
   ],
   "source": [
    "def all(iterable):\n",
    "    # Like this\n",
    "    for element in iterable:\n",
    "        if not element:\n",
    "            return False\n",
    "    return True\n",
    "\n",
    "lst = [1, 2, 3, 4, True, \"Hello\", [1]]\n",
    "lst2 = [1, 2, 3, 4, True, \"Hello\", []]  # Last element is False\n",
    "lst3 = [[]]  # False because you have an empty list whit a empty list inside\n",
    "# True because has an empty list whit and empty list, but this has a value no matter what it is\n",
    "lst4 = [[[]]]\n",
    "\n",
    "print(all(lst))\n",
    "print(all(lst2))\n",
    "print(all(lst3))\n",
    "print(all(lst4))"
   ]
  },
  {
   "cell_type": "markdown",
   "id": "2e83dd15",
   "metadata": {},
   "source": [
    "## Not operator"
   ]
  },
  {
   "cell_type": "code",
   "execution_count": 68,
   "id": "5165a5d5",
   "metadata": {},
   "outputs": [
    {
     "name": "stdout",
     "output_type": "stream",
     "text": [
      "True\n",
      "True\n",
      "True\n"
     ]
    }
   ],
   "source": [
    "x = True\n",
    "y = False\n",
    "\n",
    "print(not x == y)  # True\n",
    "print(not (x == y))  # True\n",
    "print(x == (not y))  # invalid syntax without ()"
   ]
  },
  {
   "cell_type": "markdown",
   "id": "60c2c412",
   "metadata": {},
   "source": [
    "## Can you guess this?\n",
    "- 3 dots {...} is circular reference = the entire dic again"
   ]
  },
  {
   "cell_type": "code",
   "execution_count": 77,
   "id": "59303816",
   "metadata": {},
   "outputs": [
    {
     "name": "stdout",
     "output_type": "stream",
     "text": [
      "{5: ({...}, 5)} 5\n"
     ]
    }
   ],
   "source": [
    "a, b = a[b] = {}, 5\n",
    "\n",
    "# a = {}\n",
    "# b = 5\n",
    "# a = {5: ({5: ({5: ({})})}, 5)} = {5: {...}, 5}\n",
    "\n",
    "print(a, b)"
   ]
  }
 ],
 "metadata": {
  "kernelspec": {
   "display_name": "Python 3",
   "language": "python",
   "name": "python3"
  },
  "language_info": {
   "codemirror_mode": {
    "name": "ipython",
    "version": 3
   },
   "file_extension": ".py",
   "mimetype": "text/x-python",
   "name": "python",
   "nbconvert_exporter": "python",
   "pygments_lexer": "ipython3",
   "version": "3.9.6"
  }
 },
 "nbformat": 4,
 "nbformat_minor": 5
}
