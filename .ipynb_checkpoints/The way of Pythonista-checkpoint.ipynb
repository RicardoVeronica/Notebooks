{
 "cells": [
  {
   "cell_type": "markdown",
   "metadata": {},
   "source": [
    "# Basic"
   ]
  },
  {
   "cell_type": "markdown",
   "metadata": {},
   "source": [
    "### Variables"
   ]
  },
  {
   "cell_type": "code",
   "execution_count": 1,
   "metadata": {},
   "outputs": [
    {
     "name": "stdout",
     "output_type": "stream",
     "text": [
      "2\n"
     ]
    }
   ],
   "source": [
    "x = 1\n",
    "y = 2\n",
    "x = y\n",
    "print(x)"
   ]
  },
  {
   "cell_type": "markdown",
   "metadata": {},
   "source": [
    "### Simple math operators"
   ]
  },
  {
   "cell_type": "code",
   "execution_count": 13,
   "metadata": {},
   "outputs": [
    {
     "name": "stdout",
     "output_type": "stream",
     "text": [
      "addition: 1 + 2 = 3\n",
      "subtraction: 2 - 1 = 1\n",
      "multiplication: 2 * 1 = 2\n",
      "division: 5 / 2 = 2.5 or 4 / 2 = 2.0\n",
      "module: 5 % 2 = 1 or 4 % 2 = 0\n",
      "power: 5 ** 2 = 25\n"
     ]
    }
   ],
   "source": [
    "print(f'addition: 1 + 2 = {1 + 2}')\n",
    "print(f'subtraction: 2 - 1 = {2 - 1}')\n",
    "print(f'multiplication: 2 * 1 = {2 * 1}')\n",
    "print(f'division: 5 / 2 = {5 / 2} or 4 / 2 = {4 / 2}')\n",
    "print(f'module: 5 % 2 = {5 % 2} or 4 % 2 = {4 % 2}')\n",
    "print(f'power: 5 ** 2 = {5 ** 2}')"
   ]
  },
  {
   "cell_type": "markdown",
   "metadata": {},
   "source": [
    "### Boolean conditions and logic operators"
   ]
  },
  {
   "cell_type": "code",
   "execution_count": 10,
   "metadata": {},
   "outputs": [
    {
     "name": "stdout",
     "output_type": "stream",
     "text": [
      "False\n",
      "True\n",
      "False\n",
      "True\n",
      "False\n",
      "False\n",
      "True\n"
     ]
    }
   ],
   "source": [
    "print(x == 2)\n",
    "print(x < 2)\n",
    "print(x > 2)\n",
    "print(x <= 2)\n",
    "\n",
    "x = True\n",
    "y = False\n",
    "x == y or x < y\n",
    "\n",
    "print(True == False)\n",
    "print(True < False)\n",
    "print(False < True)"
   ]
  },
  {
   "cell_type": "markdown",
   "metadata": {},
   "source": [
    "### Conditional statement or control flow"
   ]
  },
  {
   "cell_type": "code",
   "execution_count": 15,
   "metadata": {},
   "outputs": [
    {
     "name": "stdout",
     "output_type": "stream",
     "text": [
      "Whats you name? Phill\n",
      "Do I know you Phill?\n"
     ]
    }
   ],
   "source": [
    "name = input('Whats you name? ')\n",
    "\n",
    "if name == 'Richard':\n",
    "    print(f'Welcome {name}')\n",
    "elif name == 'Veronica':\n",
    "    print(f'Hello {name}')\n",
    "else:\n",
    "    print(f'Do I know you {name}?')"
   ]
  },
  {
   "cell_type": "markdown",
   "metadata": {},
   "source": [
    "### Iterable loop"
   ]
  },
  {
   "cell_type": "code",
   "execution_count": 16,
   "metadata": {},
   "outputs": [
    {
     "name": "stdout",
     "output_type": "stream",
     "text": [
      "1\n",
      "2\n",
      "3\n",
      "4\n",
      "5\n",
      "6\n",
      "7\n",
      "8\n",
      "9\n"
     ]
    }
   ],
   "source": [
    "for item in range(1, 10):\n",
    "    print(item)"
   ]
  },
  {
   "cell_type": "markdown",
   "metadata": {},
   "source": [
    "### While loop"
   ]
  },
  {
   "cell_type": "code",
   "execution_count": 2,
   "metadata": {},
   "outputs": [
    {
     "name": "stdout",
     "output_type": "stream",
     "text": [
      "give me a number between 0 and 20: 15\n",
      "15\n",
      "16\n",
      "17\n",
      "18\n",
      "19\n"
     ]
    }
   ],
   "source": [
    "number = int(input('give me a number between 0 and 20: '))\n",
    "\n",
    "while True:\n",
    "    print(number)\n",
    "    \n",
    "    number += 1\n",
    "    \n",
    "    if number == 20:\n",
    "        break"
   ]
  },
  {
   "cell_type": "code",
   "execution_count": null,
   "metadata": {},
   "outputs": [],
   "source": []
  }
 ],
 "metadata": {
  "kernelspec": {
   "display_name": "Python 3",
   "language": "python",
   "name": "python3"
  },
  "language_info": {
   "codemirror_mode": {
    "name": "ipython",
    "version": 3
   },
   "file_extension": ".py",
   "mimetype": "text/x-python",
   "name": "python",
   "nbconvert_exporter": "python",
   "pygments_lexer": "ipython3",
   "version": "3.6.9"
  }
 },
 "nbformat": 4,
 "nbformat_minor": 4
}
